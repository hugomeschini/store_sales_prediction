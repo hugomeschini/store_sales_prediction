{
 "cells": [
  {
   "cell_type": "markdown",
   "metadata": {},
   "source": [
    "## Sales Prediction Project"
   ]
  },
  {
   "cell_type": "markdown",
   "metadata": {},
   "source": [
    "1. He obtenido un dataset con informaciones de ventas de una tienda.\n",
    "2. He hecho un EDA donde he podido eliminar algunas columnas que no serían interesante para el proyecto, luego he transformado algunas colunas en numericas y he generado un heatmap de correlación.\n",
    "3. Las variables \"X\" son variables con muy buena correlación con la variable target que es la \"Sales\".\n",
    "4. He dividido los datos en Train y Test.\n",
    "5. He hecho una analisis de los modelos que podría probar en caso de Regresión.\n",
    "6. He probado cada uno de los modelos, he cambiado algunos parametros hasta llegar al mejor resultado, así que el notebook general ya lo he dejado con los mejores numeros que he podido encontrar.\n",
    "7. El XGBRegressor ha sido el modelo con el mejor resultado.\n",
    "8. He generado un archivo del mejor modelo probado en otro notebook con los datos más limpios."
   ]
  },
  {
   "cell_type": "markdown",
   "metadata": {},
   "source": []
  }
 ],
 "metadata": {
  "interpreter": {
   "hash": "dbb7385ac3431fa69875baf2702cf95a14f5d63f6dcb5d73516f07a3bb8a845f"
  },
  "kernelspec": {
   "display_name": "Python 3.7.4 64-bit",
   "language": "python",
   "name": "python3"
  },
  "language_info": {
   "codemirror_mode": {
    "name": "ipython",
    "version": 3
   },
   "file_extension": ".py",
   "mimetype": "text/x-python",
   "name": "python",
   "nbconvert_exporter": "python",
   "pygments_lexer": "ipython3",
   "version": "3.7.4"
  },
  "orig_nbformat": 4
 },
 "nbformat": 4,
 "nbformat_minor": 2
}
